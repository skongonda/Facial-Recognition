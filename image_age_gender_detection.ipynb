{
 "cells": [
  {
   "cell_type": "code",
   "execution_count": 1,
   "metadata": {},
   "outputs": [],
   "source": [
    "# importing the required libraries\n",
    "import cv2\n",
    "import dlib\n",
    "import face_recognition\n",
    "import os"
   ]
  },
  {
   "cell_type": "code",
   "execution_count": 2,
   "metadata": {},
   "outputs": [],
   "source": [
    "# loading the image to detect\n",
    "image_to_detect = cv2.imread(f'D:\\Lab Setup\\Face-Recognition\\Images\\Modi-Meloni-G20-Summit-Brazil.jpg')"
   ]
  },
  {
   "cell_type": "code",
   "execution_count": 3,
   "metadata": {},
   "outputs": [],
   "source": [
    "# detect all faces in the image\n",
    "# arguments are image,no_of_times_to_upsample, model\n",
    "\n",
    "all_face_locations = face_recognition.face_locations(image_to_detect,model='hog')"
   ]
  },
  {
   "cell_type": "code",
   "execution_count": 4,
   "metadata": {},
   "outputs": [
    {
     "name": "stdout",
     "output_type": "stream",
     "text": [
      "There are 2 no of faces in this image\n"
     ]
    }
   ],
   "source": [
    "# print the number of faces detected\n",
    "\n",
    "print('There are {} no of faces in this image'.format(len(all_face_locations)))"
   ]
  },
  {
   "cell_type": "code",
   "execution_count": 5,
   "metadata": {},
   "outputs": [],
   "source": [
    "output_dir = 'detected_faces'\n",
    "if not os.path.exists(output_dir):\n",
    "    os.makedirs(output_dir)"
   ]
  },
  {
   "cell_type": "code",
   "execution_count": 6,
   "metadata": {},
   "outputs": [
    {
     "name": "stdout",
     "output_type": "stream",
     "text": [
      "Found face 1 at top:87, right:218, bottom:149, left:156\n",
      "Found face 2 at top:38, right:403, bottom:113, left:328\n"
     ]
    }
   ],
   "source": [
    "# looping through the face locations\n",
    "\n",
    "for index, current_face_location in enumerate(all_face_locations):\n",
    "    # splitting the tuple to get the four position values of current face\n",
    "    top_pos, right_pos, bottom_pos, left_pos = current_face_location\n",
    "    # printing the location of current face\n",
    "    print('Found face {} at top:{}, right:{}, bottom:{}, left:{}'.format(index + 1, top_pos, right_pos, bottom_pos, left_pos))\n",
    "    # slicing the current face from main image\n",
    "    current_face_image = image_to_detect[top_pos:bottom_pos, left_pos:right_pos]\n",
    "    \n",
    "    # The ‘AGE_GENDER_MODEL_MEAN_VALUES’ calculated by using the numpy. mean()        \n",
    "    AGE_GENDER_MODEL_MEAN_VALUES = (78.4263377603, 87.7689143744, 114.895847746)\n",
    "\n",
    "    # create blob of current face slice\n",
    "    # params are current face image, scale, (size), (mean), RBSwap)\n",
    "    current_face_image_blob = cv2.dnn.blobFromImage(current_face_image, 1, (227, 227), AGE_GENDER_MODEL_MEAN_VALUES, swapRB=False)\n",
    "    \n",
    "    # Predicting Gender\n",
    "    # declaring the labels\n",
    "    gender_label_list = ['Male', 'Female']\n",
    "    # declaring the file paths\n",
    "    gender_protext = \"dataset/gender_deploy.prototxt\"\n",
    "    gender_caffemodel = \"dataset/gender_net.caffemodel\"\n",
    "    \n",
    "    # creating the model\n",
    "    gender_cov_net = cv2.dnn.readNet(gender_caffemodel, gender_protext)\n",
    "    # giving input to the model\n",
    "    gender_cov_net.setInput(current_face_image_blob)\n",
    "    # get the predictions from the model\n",
    "    gender_predictions = gender_cov_net.forward()\n",
    "    # find the max value of predictions index\n",
    "    # pass index to label array and get the label text\n",
    "    gender = gender_label_list[gender_predictions[0].argmax()]\n",
    "    \n",
    "    \n",
    "    \n",
    "    # Predicting Age\n",
    "    # declaring the labels\n",
    "    age_label_list = ['(0-2)', '(4-6)', '(8-12)', '(15-20)', '(25-32)', '(38-43)', '(48-53)', '(60-100)']\n",
    "    # declaring the file paths\n",
    "    age_protext = \"dataset/age_deploy.prototxt\"\n",
    "    age_caffemodel = \"dataset/age_net.caffemodel\"\n",
    "    \n",
    "    # creating the model\n",
    "    age_cov_net = cv2.dnn.readNet(age_caffemodel, age_protext)\n",
    "    # giving input to the model\n",
    "    age_cov_net.setInput(current_face_image_blob)\n",
    "    # get the predictions from the model\n",
    "    age_predictions = age_cov_net.forward()\n",
    "    # find the max value of predictions index\n",
    "    # pass index to label array and get the label text\n",
    "    age = age_label_list[age_predictions[0].argmax()]\n",
    "    \n",
    "\n",
    "    # draw rectangle around the face detected\n",
    "    cv2.rectangle(image_to_detect,(left_pos,top_pos),(right_pos,bottom_pos),(0,0,255),2)\n",
    "\n",
    "    # display the name as text in the image\n",
    "    font = cv2.FONT_HERSHEY_DUPLEX\n",
    "    cv2.putText(image_to_detect, gender+\" \"+age+\"yrs\", (left_pos,bottom_pos+20), font, 0.5, (0,255,0),1)\n",
    "\n",
    "\n",
    "# showing the current face with rectangle drawn\n",
    "cv2.imshow(\"Age & Gender\",image_to_detect)\n",
    "\n",
    "# wait for a key press and then close all windows\n",
    "cv2.waitKey(0)  # Waits indefinitely until a key is pressed\n",
    "cv2.destroyAllWindows()  # Closes all open windows"
   ]
  }
 ],
 "metadata": {
  "kernelspec": {
   "display_name": "Python 3",
   "language": "python",
   "name": "python3"
  },
  "language_info": {
   "codemirror_mode": {
    "name": "ipython",
    "version": 3
   },
   "file_extension": ".py",
   "mimetype": "text/x-python",
   "name": "python",
   "nbconvert_exporter": "python",
   "pygments_lexer": "ipython3",
   "version": "3.8.0"
  }
 },
 "nbformat": 4,
 "nbformat_minor": 2
}
