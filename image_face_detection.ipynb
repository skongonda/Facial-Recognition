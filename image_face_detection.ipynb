{
 "cells": [
  {
   "cell_type": "code",
   "execution_count": 1,
   "metadata": {},
   "outputs": [],
   "source": [
    "# importing the required libraries\n",
    "import cv2\n",
    "import dlib\n",
    "import face_recognition\n",
    "import os"
   ]
  },
  {
   "cell_type": "code",
   "execution_count": 2,
   "metadata": {},
   "outputs": [
    {
     "name": "stdout",
     "output_type": "stream",
     "text": [
      "4.11.0\n",
      "19.24.6\n",
      "1.2.3\n"
     ]
    }
   ],
   "source": [
    "print(cv2.__version__)\n",
    "print(dlib.__version__)\n",
    "print(face_recognition.__version__)"
   ]
  },
  {
   "cell_type": "code",
   "execution_count": 3,
   "metadata": {},
   "outputs": [],
   "source": [
    "# loading the image to detect\n",
    "image_to_detect = cv2.imread(f'D:\\Lab Setup\\Face-Recognition\\Images\\Indian_Prime_Minister_Narendra_Modi_and_Italian_Prime_Minister_Ms._Giorgia_Meloni.jpg')"
   ]
  },
  {
   "cell_type": "code",
   "execution_count": 4,
   "metadata": {},
   "outputs": [],
   "source": [
    "# detect all faces in the image\n",
    "# arguments are image,no_of_times_to_upsample, model\n",
    "\n",
    "all_face_locations = face_recognition.face_locations(image_to_detect,model='hog')"
   ]
  },
  {
   "cell_type": "code",
   "execution_count": 5,
   "metadata": {},
   "outputs": [
    {
     "name": "stdout",
     "output_type": "stream",
     "text": [
      "There are 2 no of faces in this image\n"
     ]
    }
   ],
   "source": [
    "# print the number of faces detected\n",
    "\n",
    "print('There are {} no of faces in this image'.format(len(all_face_locations)))"
   ]
  },
  {
   "cell_type": "code",
   "execution_count": 6,
   "metadata": {},
   "outputs": [],
   "source": [
    "output_dir = 'detected_faces'\n",
    "if not os.path.exists(output_dir):\n",
    "    os.makedirs(output_dir)"
   ]
  },
  {
   "cell_type": "code",
   "execution_count": null,
   "metadata": {},
   "outputs": [
    {
     "name": "stdout",
     "output_type": "stream",
     "text": [
      "Found face 1 at top:58, right:121, bottom:94, left:85\n",
      "Saved face 1 to detected_faces\\face_1.jpg\n",
      "Found face 2 at top:36, right:228, bottom:79, left:184\n",
      "Saved face 2 to detected_faces\\face_2.jpg\n"
     ]
    }
   ],
   "source": [
    "# looping through the face locations\n",
    "\n",
    "for index, current_face_location in enumerate(all_face_locations):\n",
    "    # splitting the tuple to get the four position values of current face\n",
    "    top_pos, right_pos, bottom_pos, left_pos = current_face_location\n",
    "    # printing the location of current face\n",
    "    print('Found face {} at top:{}, right:{}, bottom:{}, left:{}'.format(index + 1, top_pos, right_pos, bottom_pos, left_pos))\n",
    "    # slicing the current face from main image\n",
    "    current_face_image = image_to_detect[top_pos:bottom_pos, left_pos:right_pos]\n",
    "    # save the current face to a file\n",
    "    output_path = os.path.join(output_dir, f'face_{index + 1}.jpg')\n",
    "    cv2.imwrite(output_path, current_face_image)\n",
    "    print(f'Saved face {index + 1} to {output_path}')\n",
    "    # display the current face in a window\n",
    "    cv2.imshow(f'Face no {index + 1}', current_face_image)\n",
    "\n",
    "# wait for a key press and then close all windows\n",
    "cv2.waitKey(0)  # Waits indefinitely until a key is pressed\n",
    "cv2.destroyAllWindows()  # Closes all open windows"
   ]
  }
 ],
 "metadata": {
  "kernelspec": {
   "display_name": "Python 3",
   "language": "python",
   "name": "python3"
  },
  "language_info": {
   "codemirror_mode": {
    "name": "ipython",
    "version": 3
   },
   "file_extension": ".py",
   "mimetype": "text/x-python",
   "name": "python",
   "nbconvert_exporter": "python",
   "pygments_lexer": "ipython3",
   "version": "3.8.0"
  }
 },
 "nbformat": 4,
 "nbformat_minor": 2
}
