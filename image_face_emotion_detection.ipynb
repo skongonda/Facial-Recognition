{
 "cells": [
  {
   "cell_type": "markdown",
   "metadata": {},
   "source": [
    "**importing the required libraries**"
   ]
  },
  {
   "cell_type": "code",
   "execution_count": 9,
   "metadata": {},
   "outputs": [],
   "source": [
    "import cv2\n",
    "import dlib\n",
    "import face_recognition\n",
    "import os\n",
    "import cv2\n",
    "import numpy as np\n",
    "import tensorflow as tf\n",
    "from tensorflow import keras  # Accessing Keras through TensorFlow\n",
    "from tensorflow.keras.models import model_from_json \n",
    "from tensorflow.keras.preprocessing import image"
   ]
  },
  {
   "cell_type": "markdown",
   "metadata": {},
   "source": [
    "**loading the image to detect**"
   ]
  },
  {
   "cell_type": "code",
   "execution_count": 10,
   "metadata": {},
   "outputs": [],
   "source": [
    "image_to_detect = cv2.imread(f'Images\\Modi-Meloni-G20-Summit-Brazil.jpg')"
   ]
  },
  {
   "cell_type": "markdown",
   "metadata": {},
   "source": [
    "**Load the model and load the weights**"
   ]
  },
  {
   "cell_type": "code",
   "execution_count": 11,
   "metadata": {},
   "outputs": [],
   "source": [
    "face_exp_model = model_from_json(open(\"dataset\\\\facial_expression_model_structure.json\",\"r\").read())\n",
    "face_exp_model.load_weights('dataset\\\\facial_expression_model_weights.h5')"
   ]
  },
  {
   "cell_type": "markdown",
   "metadata": {},
   "source": [
    "**declare the emotions label**"
   ]
  },
  {
   "cell_type": "code",
   "execution_count": 12,
   "metadata": {},
   "outputs": [],
   "source": [
    "emotions_label = ('angry', 'disgust', 'fear', 'happy', 'sad', 'surprise', 'neutral')"
   ]
  },
  {
   "cell_type": "markdown",
   "metadata": {},
   "source": [
    "**detect all faces in the image**\n",
    "\n",
    "**arguments are image, no_of_times_to_upsample, model**"
   ]
  },
  {
   "cell_type": "code",
   "execution_count": 13,
   "metadata": {},
   "outputs": [],
   "source": [
    "all_face_locations = face_recognition.face_locations(image_to_detect,model='hog')"
   ]
  },
  {
   "cell_type": "code",
   "execution_count": 14,
   "metadata": {},
   "outputs": [
    {
     "name": "stdout",
     "output_type": "stream",
     "text": [
      "There are 2 no of faces in this image\n"
     ]
    }
   ],
   "source": [
    "# print the number of faces detected\n",
    "\n",
    "print('There are {} no of faces in this image'.format(len(all_face_locations)))"
   ]
  },
  {
   "cell_type": "code",
   "execution_count": 15,
   "metadata": {},
   "outputs": [],
   "source": [
    "output_dir = 'detected_faces'\n",
    "if not os.path.exists(output_dir):\n",
    "    os.makedirs(output_dir)"
   ]
  },
  {
   "cell_type": "code",
   "execution_count": 16,
   "metadata": {},
   "outputs": [
    {
     "name": "stdout",
     "output_type": "stream",
     "text": [
      "Found face 1 at top:87, right:218, bottom:149, left:156\n",
      "1/1 [==============================] - 0s 85ms/step\n",
      "Found face 2 at top:38, right:403, bottom:113, left:328\n",
      "1/1 [==============================] - 0s 18ms/step\n"
     ]
    }
   ],
   "source": [
    "# looping through the face locations\n",
    "\n",
    "for index, current_face_location in enumerate(all_face_locations):\n",
    "    # splitting the tuple to get the four position values of current face\n",
    "    top_pos, right_pos, bottom_pos, left_pos = current_face_location\n",
    "    # printing the location of current face\n",
    "    print('Found face {} at top:{}, right:{}, bottom:{}, left:{}'.format(index + 1, top_pos, right_pos, bottom_pos, left_pos))\n",
    "    # slicing the current face from main image\n",
    "    current_face_image = image_to_detect[top_pos:bottom_pos, left_pos:right_pos]\n",
    "    # draw rectangle around the face detected\n",
    "    cv2.rectangle(image_to_detect, (left_pos, top_pos), (right_pos, bottom_pos), (0, 0, 255), 2)\n",
    "\n",
    "    # preprocess input, convert it to an image like as the data in dataset\n",
    "    # convert to grayscale\n",
    "    current_face_image = cv2.cvtColor(current_face_image, cv2.COLOR_BGR2GRAY)\n",
    "    # resize to 48x48 px size\n",
    "    current_face_image = cv2.resize(current_face_image, (48, 48))\n",
    "    # convert the PIL image into a 3d numpy array\n",
    "    img_pixels = image.img_to_array(current_face_image)\n",
    "    # expand the shape of an array into single row multiple columns\n",
    "    img_pixels = np.expand_dims(img_pixels, axis=0)\n",
    "    # pixels are in range of [0, 255]. normalize all pixels in scale of [0, 1]\n",
    "    img_pixels /= 255\n",
    "\n",
    "    # do prodiction using model, get the prediction values for all 7 expressions\n",
    "    exp_predictions = face_exp_model.predict(img_pixels)\n",
    "    # find max indexed prediction value (0 till 7)\n",
    "    max_index = np.argmax(exp_predictions[0])\n",
    "    # get corresponding lable from emotions_label\n",
    "    emotion_label = emotions_label[max_index]\n",
    "\n",
    "    # display the name as text in the image\n",
    "    font = cv2.FONT_HERSHEY_DUPLEX\n",
    "    cv2.putText(image_to_detect, emotion_label, (left_pos, bottom_pos), font, 0.5, (255, 255, 255), 1)\n",
    "\n",
    "# showing the current face with rectangle drawn\n",
    "cv2.imshow(\"Face emotions\", image_to_detect)\n",
    "\n",
    "# wait for a key press and then close all windows\n",
    "cv2.waitKey(0)  # Waits indefinitely until a key is pressed\n",
    "cv2.destroyAllWindows()  # Closes all open windows"
   ]
  }
 ],
 "metadata": {
  "kernelspec": {
   "display_name": "Python 3",
   "language": "python",
   "name": "python3"
  },
  "language_info": {
   "codemirror_mode": {
    "name": "ipython",
    "version": 3
   },
   "file_extension": ".py",
   "mimetype": "text/x-python",
   "name": "python",
   "nbconvert_exporter": "python",
   "pygments_lexer": "ipython3",
   "version": "3.8.0"
  }
 },
 "nbformat": 4,
 "nbformat_minor": 2
}
